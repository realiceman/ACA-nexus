{
  "nbformat": 4,
  "nbformat_minor": 0,
  "metadata": {
    "colab": {
      "name": "ex1to10.ipynb",
      "provenance": [],
      "authorship_tag": "ABX9TyPBPyQTNgYp1ThB+Dd1LgQ5",
      "include_colab_link": true
    },
    "kernelspec": {
      "name": "python3",
      "display_name": "Python 3"
    },
    "language_info": {
      "name": "python"
    }
  },
  "cells": [
    {
      "cell_type": "markdown",
      "metadata": {
        "id": "view-in-github",
        "colab_type": "text"
      },
      "source": [
        "<a href=\"https://colab.research.google.com/github/realiceman/ACA-nexus/blob/master/ex1to10.ipynb\" target=\"_parent\"><img src=\"https://colab.research.google.com/assets/colab-badge.svg\" alt=\"Open In Colab\"/></a>"
      ]
    },
    {
      "cell_type": "markdown",
      "source": [
        "Ex1: Sum of natural numbers under 100 that are divisible by 5 or 7"
      ],
      "metadata": {
        "id": "QORCZhuqIzcl"
      }
    },
    {
      "cell_type": "code",
      "source": [
        "def calculate():\n",
        "    return sum([i for i in range(100) if i % 5 == 0 or i % 7 == 0])\n",
        " \n",
        " \n",
        "print(calculate())"
      ],
      "metadata": {
        "colab": {
          "base_uri": "https://localhost:8080/"
        },
        "id": "UCxepHYYbSs1",
        "outputId": "871433bb-a0fa-46fe-905e-b52df3752c84"
      },
      "execution_count": 1,
      "outputs": [
        {
          "output_type": "stream",
          "name": "stdout",
          "text": [
            "1580\n"
          ]
        }
      ]
    }
  ]
}